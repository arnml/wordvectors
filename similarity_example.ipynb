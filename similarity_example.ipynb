{
 "cells": [
  {
   "cell_type": "code",
   "execution_count": 1,
   "id": "eb905176-d573-488d-852b-09315c24f8ba",
   "metadata": {},
   "outputs": [
    {
     "name": "stdout",
     "output_type": "stream",
     "text": [
      "Loaded vocab size 400000\n",
      "Similar words to 'happy':\n",
      "glad: 0.7428\n",
      "'m: 0.7389\n",
      "always: 0.7261\n",
      "really: 0.7218\n",
      "everyone: 0.7179\n"
     ]
    }
   ],
   "source": [
    "import gensim.downloader as api\n",
    "import numpy as np\n",
    "\n",
    "def load_embedding_model():\n",
    "    \"\"\" Load GloVe Vectors\n",
    "    Return:\n",
    "        wv_from_bin: All 400000 embeddings, each length 200\n",
    "    \"\"\"\n",
    "    wv_from_bin = api.load(\"glove-wiki-gigaword-200\")\n",
    "    print(\"Loaded vocab size %i\" % len(list(wv_from_bin.index_to_key)))\n",
    "    return wv_from_bin\n",
    "\n",
    "def find_similar_words(wv_from_bin, word, topn=5):\n",
    "    \"\"\" Find similar words to a given word using cosine similarity.\n",
    "    Args:\n",
    "        wv_from_bin: The loaded GloVe embeddings.\n",
    "        word: The target word.\n",
    "        topn: The number of similar words to find.\n",
    "    Returns:\n",
    "        similar_words: A list of tuples containing the similar words and their cosine similarity scores.\n",
    "    \"\"\"\n",
    "    try:\n",
    "        similar_words = wv_from_bin.most_similar(word, topn=topn)\n",
    "        return similar_words\n",
    "    except KeyError:\n",
    "        print(f\"Word '{word}' not found in the vocabulary.\")\n",
    "        return []\n",
    "\n",
    "# Load the embedding model\n",
    "wv_from_bin = load_embedding_model()\n",
    "\n",
    "# Find similar words to \"happy\"\n",
    "similar_words = find_similar_words(wv_from_bin, \"happy\")\n",
    "\n",
    "# Print the results\n",
    "print(\"Similar words to 'happy':\")\n",
    "for word, similarity in similar_words:\n",
    "    print(f\"{word}: {similarity:.4f}\")"
   ]
  },
  {
   "cell_type": "code",
   "execution_count": null,
   "id": "9fdbd575-5b03-4e17-8be4-0bf40dce5713",
   "metadata": {},
   "outputs": [],
   "source": []
  }
 ],
 "metadata": {
  "kernelspec": {
   "display_name": "Python 3 (ipykernel)",
   "language": "python",
   "name": "python3"
  },
  "language_info": {
   "codemirror_mode": {
    "name": "ipython",
    "version": 3
   },
   "file_extension": ".py",
   "mimetype": "text/x-python",
   "name": "python",
   "nbconvert_exporter": "python",
   "pygments_lexer": "ipython3",
   "version": "3.12.5"
  }
 },
 "nbformat": 4,
 "nbformat_minor": 5
}
