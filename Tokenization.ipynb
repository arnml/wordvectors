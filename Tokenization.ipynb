{
 "cells": [
  {
   "cell_type": "markdown",
   "id": "98035a64-44fe-448b-86a7-49ac82902a85",
   "metadata": {},
   "source": [
    "# Tokenization\n",
    "* Frequency-based"
   ]
  },
  {
   "cell_type": "code",
   "execution_count": null,
   "id": "62f90771-ed13-4fad-951e-0bdd390d989d",
   "metadata": {},
   "outputs": [],
   "source": []
  }
 ],
 "metadata": {
  "kernelspec": {
   "display_name": "Python 3 (ipykernel)",
   "language": "python",
   "name": "python3"
  },
  "language_info": {
   "codemirror_mode": {
    "name": "ipython",
    "version": 3
   },
   "file_extension": ".py",
   "mimetype": "text/x-python",
   "name": "python",
   "nbconvert_exporter": "python",
   "pygments_lexer": "ipython3",
   "version": "3.12.5"
  }
 },
 "nbformat": 4,
 "nbformat_minor": 5
}
